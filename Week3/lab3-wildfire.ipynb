{
 "cells": [
  {
   "cell_type": "code",
   "execution_count": 50,
   "id": "6d41e7de-5f0c-4baf-a37f-ec5dbe4f7428",
   "metadata": {
    "tags": []
   },
   "outputs": [],
   "source": [
    "# Imports\n",
    "import pandas as pd\n",
    "import numpy as np\n",
    "import seaborn as sns\n",
    "from sklearn.model_selection import train_test_split\n",
    "from sklearn.preprocessing import StandardScaler\n",
    "from sklearn.linear_model import LogisticRegression\n",
    "from sklearn.dummy import DummyClassifier\n",
    "from sklearn.metrics import accuracy_score, confusion_matrix, classification_report, roc_curve, roc_auc_score, ConfusionMatrixDisplay\n",
    "import matplotlib.pyplot as plt\n"
   ]
  },
  {
   "cell_type": "markdown",
   "id": "e492775e-957c-40b4-b64f-5de93dbea5e1",
   "metadata": {},
   "source": [
    "# Lab 4: Fire and Tree Mortality\n",
    "\n",
    "# About the data\n",
    "Wildfires are increasingly frequent and severe due to climate change. Predicting tree mortality following a wildfire is critical for forest management, ecosystem recovery, and carbon sequestration planning. In this lab, we will build a logistic regression model to predict the probability of tree mortality one year after a wildfire\n",
    "\n",
    "The database we'll be working with today includes observations of individual trees involved in prescribed fires and wildfires occurring over 35 years, from 1981 to 2016. It is drawn from a fire and tree mortality database from the US Forest Service (see data description for the full database here: [link](https://www.nature.com/articles/s41597-020-0522-7#Sec10)).\n",
    "\n",
    "The target variable we'll use is `yr1status`, which is a binary variable (0=alive, 1=dead).  This tells us if a tree has died one year after a fire event.\n",
    "\n",
    "The features we'll use are `YrFireName`, `Times_burned`, `Species`, `Genus_species`,\n",
    "    `DBH_cm`, `HT_m`, `CR_pre`, and `CR_post`."
   ]
  },
  {
   "cell_type": "markdown",
   "id": "8f2c5ce6-eb43-4544-8b88-c306a7618c85",
   "metadata": {},
   "source": [
    "## Step 1: Check the metadata\n",
    "\n",
    "Look at the metadata and provide a description on what each variable represents in the Description column below.\n"
   ]
  },
  {
   "cell_type": "markdown",
   "id": "c7b239ac-123f-4458-bf2c-fc46dcf5cc0a",
   "metadata": {},
   "source": [
    "| Feature                     | Description                                                                                   |\n",
    "|-----------------------------|-----------------------------------------------------------------------------------------------| \n",
    "| yr1status                   | Binary\n",
    "| YrFireName                  |                                     \n",
    "| Times_burned                |                                              \n",
    "| Species                     |                                                     \n",
    "| Genus_species               |                                       \n",
    "| DBH_cm                      | \n",
    "| HT_m                        |\n",
    "| CR_pre                      | \n",
    "| CR_post                     |"
   ]
  },
  {
   "cell_type": "markdown",
   "id": "55d355a0",
   "metadata": {},
   "source": [
    "## Step 2: Fetch  data\n",
    "Read in the data set and filter to retain only the variables of interest.  Then check for incomplete observations and remove any rows containing NaNs.  How many observations does that leave us with? **Print your answer.**"
   ]
  },
  {
   "cell_type": "code",
   "execution_count": 51,
   "id": "ac926dc2",
   "metadata": {
    "tags": []
   },
   "outputs": [
    {
     "data": {
      "text/plain": [
       "YrFireName       0\n",
       "Species          0\n",
       "Times_burned     0\n",
       "Genus_species    0\n",
       "DBH_cm           0\n",
       "HT_m             0\n",
       "CR_pre           0\n",
       "yr1status        0\n",
       "CR_post          0\n",
       "dtype: int64"
      ]
     },
     "execution_count": 51,
     "metadata": {},
     "output_type": "execute_result"
    }
   ],
   "source": [
    "# Load the dataset and keep following columns\n",
    "trees_dat = pd.read_csv('data/FTM_trees.csv', usecols=['yr1status', 'YrFireName', 'Times_burned', 'Species', 'Genus_species', 'DBH_cm', 'HT_m', 'CR_pre', 'CR_post'])\n",
    "\n",
    "# Drop NAs\n",
    "trees_dat = trees_dat.dropna()\n",
    "trees_dat.isna().sum()"
   ]
  },
  {
   "cell_type": "code",
   "execution_count": 52,
   "id": "8f97de13",
   "metadata": {},
   "outputs": [
    {
     "data": {
      "text/html": [
       "<div>\n",
       "<style scoped>\n",
       "    .dataframe tbody tr th:only-of-type {\n",
       "        vertical-align: middle;\n",
       "    }\n",
       "\n",
       "    .dataframe tbody tr th {\n",
       "        vertical-align: top;\n",
       "    }\n",
       "\n",
       "    .dataframe thead th {\n",
       "        text-align: right;\n",
       "    }\n",
       "</style>\n",
       "<table border=\"1\" class=\"dataframe\">\n",
       "  <thead>\n",
       "    <tr style=\"text-align: right;\">\n",
       "      <th></th>\n",
       "      <th>YrFireName</th>\n",
       "      <th>Species</th>\n",
       "      <th>Times_burned</th>\n",
       "      <th>Genus_species</th>\n",
       "      <th>DBH_cm</th>\n",
       "      <th>HT_m</th>\n",
       "      <th>CR_pre</th>\n",
       "      <th>yr1status</th>\n",
       "      <th>CR_post</th>\n",
       "    </tr>\n",
       "  </thead>\n",
       "  <tbody>\n",
       "    <tr>\n",
       "      <th>500</th>\n",
       "      <td>2003 - Griff</td>\n",
       "      <td>ABAM</td>\n",
       "      <td>1</td>\n",
       "      <td>Abies_amabilis</td>\n",
       "      <td>71.374</td>\n",
       "      <td>41.76</td>\n",
       "      <td>0.84</td>\n",
       "      <td>0.0</td>\n",
       "      <td>0.74</td>\n",
       "    </tr>\n",
       "    <tr>\n",
       "      <th>501</th>\n",
       "      <td>2003 - Griff</td>\n",
       "      <td>ABAM</td>\n",
       "      <td>1</td>\n",
       "      <td>Abies_amabilis</td>\n",
       "      <td>23.622</td>\n",
       "      <td>12.80</td>\n",
       "      <td>0.60</td>\n",
       "      <td>0.0</td>\n",
       "      <td>0.57</td>\n",
       "    </tr>\n",
       "    <tr>\n",
       "      <th>502</th>\n",
       "      <td>2003 - Griff</td>\n",
       "      <td>ABAM</td>\n",
       "      <td>1</td>\n",
       "      <td>Abies_amabilis</td>\n",
       "      <td>46.228</td>\n",
       "      <td>34.75</td>\n",
       "      <td>0.75</td>\n",
       "      <td>0.0</td>\n",
       "      <td>0.59</td>\n",
       "    </tr>\n",
       "    <tr>\n",
       "      <th>503</th>\n",
       "      <td>2003 - Griff</td>\n",
       "      <td>ABAM</td>\n",
       "      <td>1</td>\n",
       "      <td>Abies_amabilis</td>\n",
       "      <td>21.082</td>\n",
       "      <td>23.16</td>\n",
       "      <td>0.38</td>\n",
       "      <td>0.0</td>\n",
       "      <td>0.38</td>\n",
       "    </tr>\n",
       "    <tr>\n",
       "      <th>504</th>\n",
       "      <td>2003 - Griff</td>\n",
       "      <td>ABAM</td>\n",
       "      <td>1</td>\n",
       "      <td>Abies_amabilis</td>\n",
       "      <td>24.384</td>\n",
       "      <td>26.21</td>\n",
       "      <td>0.42</td>\n",
       "      <td>0.0</td>\n",
       "      <td>0.42</td>\n",
       "    </tr>\n",
       "    <tr>\n",
       "      <th>...</th>\n",
       "      <td>...</td>\n",
       "      <td>...</td>\n",
       "      <td>...</td>\n",
       "      <td>...</td>\n",
       "      <td>...</td>\n",
       "      <td>...</td>\n",
       "      <td>...</td>\n",
       "      <td>...</td>\n",
       "      <td>...</td>\n",
       "    </tr>\n",
       "    <tr>\n",
       "      <th>169332</th>\n",
       "      <td>2003 - B and B</td>\n",
       "      <td>TSME</td>\n",
       "      <td>1</td>\n",
       "      <td>Tsuga_mertensiana</td>\n",
       "      <td>32.512</td>\n",
       "      <td>15.54</td>\n",
       "      <td>0.90</td>\n",
       "      <td>0.0</td>\n",
       "      <td>0.90</td>\n",
       "    </tr>\n",
       "    <tr>\n",
       "      <th>169333</th>\n",
       "      <td>2003 - B and B</td>\n",
       "      <td>TSME</td>\n",
       "      <td>1</td>\n",
       "      <td>Tsuga_mertensiana</td>\n",
       "      <td>24.892</td>\n",
       "      <td>14.63</td>\n",
       "      <td>0.81</td>\n",
       "      <td>0.0</td>\n",
       "      <td>0.81</td>\n",
       "    </tr>\n",
       "    <tr>\n",
       "      <th>169334</th>\n",
       "      <td>2003 - B and B</td>\n",
       "      <td>TSME</td>\n",
       "      <td>1</td>\n",
       "      <td>Tsuga_mertensiana</td>\n",
       "      <td>32.258</td>\n",
       "      <td>16.46</td>\n",
       "      <td>0.85</td>\n",
       "      <td>0.0</td>\n",
       "      <td>0.63</td>\n",
       "    </tr>\n",
       "    <tr>\n",
       "      <th>169335</th>\n",
       "      <td>2003 - B and B</td>\n",
       "      <td>TSME</td>\n",
       "      <td>1</td>\n",
       "      <td>Tsuga_mertensiana</td>\n",
       "      <td>31.750</td>\n",
       "      <td>18.59</td>\n",
       "      <td>0.87</td>\n",
       "      <td>0.0</td>\n",
       "      <td>0.80</td>\n",
       "    </tr>\n",
       "    <tr>\n",
       "      <th>169336</th>\n",
       "      <td>2003 - B and B</td>\n",
       "      <td>TSME</td>\n",
       "      <td>1</td>\n",
       "      <td>Tsuga_mertensiana</td>\n",
       "      <td>28.956</td>\n",
       "      <td>17.68</td>\n",
       "      <td>0.79</td>\n",
       "      <td>0.0</td>\n",
       "      <td>0.52</td>\n",
       "    </tr>\n",
       "  </tbody>\n",
       "</table>\n",
       "<p>36509 rows × 9 columns</p>\n",
       "</div>"
      ],
      "text/plain": [
       "            YrFireName Species  Times_burned      Genus_species  DBH_cm  \\\n",
       "500       2003 - Griff    ABAM             1     Abies_amabilis  71.374   \n",
       "501       2003 - Griff    ABAM             1     Abies_amabilis  23.622   \n",
       "502       2003 - Griff    ABAM             1     Abies_amabilis  46.228   \n",
       "503       2003 - Griff    ABAM             1     Abies_amabilis  21.082   \n",
       "504       2003 - Griff    ABAM             1     Abies_amabilis  24.384   \n",
       "...                ...     ...           ...                ...     ...   \n",
       "169332  2003 - B and B    TSME             1  Tsuga_mertensiana  32.512   \n",
       "169333  2003 - B and B    TSME             1  Tsuga_mertensiana  24.892   \n",
       "169334  2003 - B and B    TSME             1  Tsuga_mertensiana  32.258   \n",
       "169335  2003 - B and B    TSME             1  Tsuga_mertensiana  31.750   \n",
       "169336  2003 - B and B    TSME             1  Tsuga_mertensiana  28.956   \n",
       "\n",
       "         HT_m  CR_pre  yr1status  CR_post  \n",
       "500     41.76    0.84        0.0     0.74  \n",
       "501     12.80    0.60        0.0     0.57  \n",
       "502     34.75    0.75        0.0     0.59  \n",
       "503     23.16    0.38        0.0     0.38  \n",
       "504     26.21    0.42        0.0     0.42  \n",
       "...       ...     ...        ...      ...  \n",
       "169332  15.54    0.90        0.0     0.90  \n",
       "169333  14.63    0.81        0.0     0.81  \n",
       "169334  16.46    0.85        0.0     0.63  \n",
       "169335  18.59    0.87        0.0     0.80  \n",
       "169336  17.68    0.79        0.0     0.52  \n",
       "\n",
       "[36509 rows x 9 columns]"
      ]
     },
     "execution_count": 52,
     "metadata": {},
     "output_type": "execute_result"
    }
   ],
   "source": [
    "# View new data frame\n",
    "trees_dat"
   ]
  },
  {
   "cell_type": "markdown",
   "id": "aaf806bf",
   "metadata": {},
   "source": [
    "## Step 3: Data Preprocessing\n",
    "1. We recode categorical predictors to zero-based integer form because most machine learning models, including logistic regression, cannot work directly with categorical data represented as strings or labels. Instead, models require numerical input. Let's do that here. \n"
   ]
  },
  {
   "cell_type": "code",
   "execution_count": 53,
   "id": "5f7a37af",
   "metadata": {},
   "outputs": [],
   "source": [
    "# Function to convert categorical variables to numerical\n",
    "for col in ['Genus_species', 'YrFireName', 'Species']:\n",
    "    trees_dat[col] = trees_dat[col].astype('category').cat.codes"
   ]
  },
  {
   "cell_type": "code",
   "execution_count": 54,
   "id": "c10a41d8",
   "metadata": {},
   "outputs": [
    {
     "data": {
      "text/plain": [
       "YrFireName          int8\n",
       "Species             int8\n",
       "Times_burned       int64\n",
       "Genus_species       int8\n",
       "DBH_cm           float64\n",
       "HT_m             float64\n",
       "CR_pre           float64\n",
       "yr1status        float64\n",
       "CR_post          float64\n",
       "dtype: object"
      ]
     },
     "execution_count": 54,
     "metadata": {},
     "output_type": "execute_result"
    }
   ],
   "source": [
    "# View df to check \n",
    "trees_dat.dtypes"
   ]
  },
  {
   "cell_type": "code",
   "execution_count": null,
   "id": "1e41fb79-ad31-4162-ac76-887461bb4160",
   "metadata": {
    "tags": []
   },
   "outputs": [],
   "source": []
  },
  {
   "cell_type": "markdown",
   "id": "fdcc4673-26dc-4c09-8c9a-0f2f97abe16f",
   "metadata": {},
   "source": [
    "2. Then we'll split into training and test data and scale for coefficient interpretability.  Recall that we use the training features to calculate our scaling parameters (mean and standard deviation) and apply the scaling to those training features (`scaler.fit_transform`) and then apply the scaling to the features in the test data as well (`scaler.transform`).\n"
   ]
  },
  {
   "cell_type": "code",
   "execution_count": 55,
   "id": "54b2f9d2-f414-4bf2-b0a3-51d55f3d997a",
   "metadata": {
    "tags": []
   },
   "outputs": [
    {
     "data": {
      "text/plain": [
       "Ellipsis"
      ]
     },
     "execution_count": 55,
     "metadata": {},
     "output_type": "execute_result"
    }
   ],
   "source": [
    "# Assign predictor and outcome variables\n",
    "X = trees_dat[['Times_burned', 'Species', 'Genus_species', 'DBH_cm', 'HT_m', 'CR_pre', 'CR_post', 'YrFireName']]\n",
    "y = trees_dat['yr1status']\n",
    "\n",
    "# Split the data \n",
    "X_train, X_test, y_train, y_test = train_test_split(X, y, test_size = 0.3, random_state = 42)\n",
    "\n",
    "# Standardize the predictors\n",
    "scaler = StandardScaler()\n",
    "X_train_scaled = scaler.fit_transform(X_train)\n",
    "X_test_scaled = scaler.transform(X_test)\n",
    "..."
   ]
  },
  {
   "cell_type": "markdown",
   "id": "3055eca1-9c22-4266-95a0-710b43be5a8e",
   "metadata": {},
   "source": [
    "3. How many training/test observations do we have? Print your answer in the cell below. "
   ]
  },
  {
   "cell_type": "code",
   "execution_count": 56,
   "id": "fdb4803d-8680-4ede-b790-3579f4a485e7",
   "metadata": {
    "tags": []
   },
   "outputs": [
    {
     "name": "stdout",
     "output_type": "stream",
     "text": [
      "Training set observations: 25556\n",
      "Testing set observations: 10953\n"
     ]
    }
   ],
   "source": [
    "...\n",
    "# Verify the training and testing set size\n",
    "print(\"Training set observations:\", X_train_scaled.shape[0])\n",
    "print(\"Testing set observations:\", X_test_scaled.shape[0])"
   ]
  },
  {
   "cell_type": "markdown",
   "id": "4ca8857c",
   "metadata": {},
   "source": [
    "## Step 4: Train a Logistical Model\n",
    "Create a classifier using `LogisticRegression()` and fit it on the training data.  Then assess the model's accuracy on the training set by making predictions on the training data.  Calculate and **print** the accuracy of your model on the training set. "
   ]
  },
  {
   "cell_type": "code",
   "execution_count": 73,
   "id": "578b2ca5",
   "metadata": {
    "tags": []
   },
   "outputs": [
    {
     "name": "stdout",
     "output_type": "stream",
     "text": [
      "Training Accuracy: 0.95\n"
     ]
    }
   ],
   "source": [
    "# Create logistic regression classifier\n",
    "model_log = LogisticRegression()\n",
    "\n",
    "# Fit model onto training data\n",
    "model_log.fit(X_train_scaled, y_train)\n",
    "\n",
    "# Make predictions on training data\n",
    "y_train_pred = model_log.predict(X_train_scaled)\n",
    "\n",
    "# Calculate training accuracy\n",
    "accuracy_train = accuracy_score(y_train, y_train_pred)\n",
    "\n",
    "# Print training accuracy\n",
    "print(f\"Training Accuracy: {accuracy_train:.2f}\")"
   ]
  },
  {
   "cell_type": "markdown",
   "id": "34d86616",
   "metadata": {},
   "source": [
    "## Step 5: Test Set Predictions and Model Evaluation\n",
    "Now let's take our trained logistic classifier and make predictions on the test set. Calculate the accuracy and confusion matrix. Then use `sns.heatmap` for improved confusion matrix visualization."
   ]
  },
  {
   "cell_type": "code",
   "execution_count": 74,
   "id": "be4e4d6c",
   "metadata": {
    "tags": []
   },
   "outputs": [
    {
     "name": "stdout",
     "output_type": "stream",
     "text": [
      "Accuracy: 0.94\n",
      "[[9838  195]\n",
      " [ 460  460]]\n"
     ]
    },
    {
     "data": {
      "image/png": "[encoded data removed]",
      "text/plain": [
       "<Figure size 600x400 with 2 Axes>"
      ]
     },
     "metadata": {},
     "output_type": "display_data"
    }
   ],
   "source": [
    "...\n",
    "# Make predictions on test data\n",
    "y_test_pred = model_log.predict(X_test_scaled)\n",
    "\n",
    "# Calculate test accuracy\n",
    "accuracy_test = accuracy_score(y_test, y_test_pred)\n",
    "\n",
    "# Print evaluation metrics\n",
    "print(f\"Accuracy: {accuracy_test:.2f}\")\n",
    "\n",
    "# Extract probabilities of distribution for confusion matrix\n",
    "y_probs = model_log.predict_proba(X_test_scaled)[:, 1]\n",
    "\n",
    "# Compute ROC curve\n",
    "# fpr, tpr, thresholds = roc_curve(y_test, y_probs)\n",
    "\n",
    "# Make Confusion Matrix\n",
    "cm = confusion_matrix(y_test, y_test_pred)\n",
    "print(cm)\n",
    "\n",
    "# Plot Confusion Matrix\n",
    "plt.figure(figsize = (6, 4))\n",
    "sns.heatmap(cm, annot=True, fmt = 'd', cmap = 'coolwarm',\n",
    "            xticklabels=['Positive', 'Negative'], yticklabels = ['True', 'False'])\n",
    "plt.xlabel('Predicted')\n",
    "plt.ylabel('True Values')\n",
    "plt.title('Confusion Matrix of Test vs Predicted ')\n",
    "plt.show()"
   ]
  },
  {
   "cell_type": "markdown",
   "id": "9b5cdbbb",
   "metadata": {},
   "source": [
    "## Step 6: Logistic Classifier Evaluation\n",
    "How did your model perform on the unseen data? \n",
    "Does your model perform differently on observations of trees that survived vs trees that died?\n",
    "Is there a class imbalance in this data set?"
   ]
  },
  {
   "cell_type": "markdown",
   "id": "7c651ef7",
   "metadata": {},
   "source": [
    "The model performed well on the test data with a 94% accuracy of correctly predicting dead trees. "
   ]
  },
  {
   "cell_type": "markdown",
   "id": "c60c7e36",
   "metadata": {},
   "source": [
    "## Step 7: What about a Dummy?\n",
    "What do you think would happen if we built a model that always predicts the majority class (dead trees)? How would its accuracy compare to your logistic regression model?"
   ]
  },
  {
   "cell_type": "markdown",
   "id": "e66ba576",
   "metadata": {},
   "source": [
    "If we had a model that always predicted majority class then it might not be entirely trustworthy. If the model was tested on fire data consisting of dead trees, then it would probably have a high accuracy. On the other hand, if it was given normal tree data, then it might not estimate properly. A logistic regression model will better take into account the minority classes. "
   ]
  },
  {
   "cell_type": "markdown",
   "id": "6854360d",
   "metadata": {},
   "source": [
    "Let's go ahead and do it: use `DummyClassifier()` with the appropriate value for the 'strategy' parameter to train a majority classifier.  Then calculate this model's accuracy on the training data."
   ]
  },
  {
   "cell_type": "code",
   "execution_count": 59,
   "id": "fe5b4015",
   "metadata": {
    "tags": []
   },
   "outputs": [
    {
     "name": "stdout",
     "output_type": "stream",
     "text": [
      "Dummy Accuracy: 0.92\n",
      "\n",
      "Dummy Confusion Matrix: [[10033     0]\n",
      " [  920     0]]\n"
     ]
    }
   ],
   "source": [
    "# Classify majority model\n",
    "model = DummyClassifier(strategy = 'most_frequent')\n",
    "\n",
    "# Fit model onto training data\n",
    "model.fit(X_train_scaled, y_train)\n",
    "\n",
    "# Make predictions on test data\n",
    "y_pred = model.predict(X_test_scaled)\n",
    "\n",
    "# Calculate probability of distribution\n",
    "y_probs_dummy = model.predict_proba(X_test_scaled)[:, 1]\n",
    "\n",
    "# Calculate accuracy\n",
    "dummy_accuracy = accuracy_score(y_test, y_pred)\n",
    "\n",
    "# Confusion matrix\n",
    "cm = confusion_matrix(y_test, y_pred)\n",
    "\n",
    "# Print accuracy and confusion matrix results\n",
    "print(f\"Dummy Accuracy: {dummy_accuracy:.2f}\")\n",
    "print(\"\\nDummy Confusion Matrix:\", cm)\n"
   ]
  },
  {
   "cell_type": "markdown",
   "id": "e3445d23",
   "metadata": {},
   "source": [
    "# Step 8: ROCs and AUCs\n",
    "Our two models have similar accuracy, but is that all there is to this story?  Let's dig a little deeper on the comparison of our logistic and dummy classifiers by examining the associated receiver-operator characteristic (ROC) curves. Calculate the area under the curve (AUC) for both models."
   ]
  },
  {
   "cell_type": "code",
   "execution_count": 75,
   "id": "cef8515b",
   "metadata": {
    "tags": []
   },
   "outputs": [
    {
     "name": "stdout",
     "output_type": "stream",
     "text": [
      "Logistic AUC: 0.9180671176422154 \n"
     ]
    }
   ],
   "source": [
    "# Logistic classifier AUC\n",
    "logit_auc = roc_auc_score(y_test, y_probs)\n",
    "\n",
    "print(f\"Logistic AUC: {logit_auc} \")\n",
    "\n",
    "fpr_log, tpr_log, thresholds = roc_curve(y_test, y_probs)"
   ]
  },
  {
   "cell_type": "code",
   "execution_count": 76,
   "id": "5180e8b8",
   "metadata": {
    "tags": []
   },
   "outputs": [
    {
     "name": "stdout",
     "output_type": "stream",
     "text": [
      "Dummy AUC: 0.5\n"
     ]
    }
   ],
   "source": [
    "# Dummy classifier AUC\n",
    "dummy_auc = roc_auc_score(y_test, y_probs_dummy)\n",
    "\n",
    "print(f\"Dummy AUC: {dummy_auc}\")\n",
    "\n",
    "fpr_dummy, tpr_dummy, thresholds = roc_curve(y_test, y_probs_dummy)"
   ]
  },
  {
   "cell_type": "markdown",
   "id": "4acd252f",
   "metadata": {},
   "source": [
    "# Step 9: Plot dummy and logistic model ROC curves\n",
    "Now using the outputs from `roc_curve()`, plot the ROC curves for both models on the same plot.  Make sure to use appropriate labels in the legend."
   ]
  },
  {
   "cell_type": "code",
   "execution_count": 77,
   "id": "03a7fe29",
   "metadata": {
    "tags": []
   },
   "outputs": [
    {
     "data": {
      "text/plain": [
       "<matplotlib.legend.Legend at 0x149e8c878e0>"
      ]
     },
     "execution_count": 77,
     "metadata": {},
     "output_type": "execute_result"
    },
    {
     "data": {
      "image/png": "[encoded data removed]",
      "text/plain": [
       "<Figure size 1000x600 with 1 Axes>"
      ]
     },
     "metadata": {},
     "output_type": "display_data"
    }
   ],
   "source": [
    "# Initialize plot\n",
    "plt.figure(figsize = (10, 6))\n",
    "\n",
    "# Plot ROC curves\n",
    "plt.plot(fpr_log, tpr_log, label = f\"Logistic AUC: {logit_auc:.2f}\")\n",
    "plt.plot(fpr_dummy, tpr_dummy, label = f\"Dummy AUC: {dummy_auc}\")\n",
    "\n",
    "# Plot Labels\n",
    "plt.xlabel('False Positive Rate')\n",
    "plt.ylabel('True Positive Rate')\n",
    "plt.title('ROC Curves for Logisitc and Dummy Classifiers')\n",
    "\n",
    "plt.legend(loc = 'lower right')"
   ]
  },
  {
   "cell_type": "markdown",
   "id": "ec104e80",
   "metadata": {},
   "source": [
    "How do the two models compare on AUC?  What are the implications for evaluating classifiers based on accuracy of their predictions?"
   ]
  },
  {
   "cell_type": "markdown",
   "id": "a4ab1a30",
   "metadata": {},
   "source": [
    "The models have very different AUC scores. An AUC score indicates that the model is not learning from the data. It is basically \"guessing\" whether or not there a tree is dead. Accuracy isn't always the best thing to base our models off because we can see that we had a high accuracy of 0.92 for our dummy model, but a very low AUC. It is always good to use both metrics to test the model.  "
   ]
  },
  {
   "cell_type": "markdown",
   "id": "d1767d77",
   "metadata": {},
   "source": [
    "# Step 10: Final interpretation\n",
    "\n",
    "Identifying the most important features in a model can guide decision-making. For instance, in our dataset, highly important features might indicate key factors affecting tree survival after a fire. We will calculate the feature importance by examining the coefficients of our logistic regression model."
   ]
  },
  {
   "cell_type": "code",
   "execution_count": 87,
   "id": "e0a97e03",
   "metadata": {
    "tags": []
   },
   "outputs": [
    {
     "name": "stdout",
     "output_type": "stream",
     "text": [
      "         Feature  Coefficient\n",
      "0   Times_burned     0.000000\n",
      "1        Species     0.541509\n",
      "2  Genus_species    -0.067867\n",
      "3         DBH_cm     0.421324\n",
      "4           HT_m    -1.165414\n",
      "5         CR_pre     0.123414\n",
      "6        CR_post    -2.494974\n",
      "7     YrFireName    -0.660497\n"
     ]
    }
   ],
   "source": [
    "# Define coefficients\n",
    "coefficients = model_log.coef_[0]\n",
    "\n",
    "# Define features\n",
    "features = X.columns\n",
    "\n",
    "\n",
    "# Create a dataframe for the feature importance\n",
    "importance_df = pd.DataFrame({\n",
    "    'Feature': features,\n",
    "    'Coefficient': coefficients\n",
    "})\n",
    "\n",
    "# Print the sorted feature importance\n",
    "print(importance_df)"
   ]
  },
  {
   "cell_type": "markdown",
   "id": "55d9db5d",
   "metadata": {},
   "source": [
    "Which are the most important features in our model (reference the metadata to help answer this)? Can you think of any implications for forest management or conservation strategy?"
   ]
  },
  {
   "cell_type": "markdown",
   "id": "bd42e56c",
   "metadata": {},
   "source": [
    "The features that have the largest magnitude are CR_post and HT_m with values of -2.49 and -1.17 respectively. This indicates that they have a stronger influence on decreasing the probability of predicting the positive class. "
   ]
  }
 ],
 "metadata": {
  "kernelspec": {
   "display_name": "ml-env",
   "language": "python",
   "name": "python3"
  },
  "language_info": {
   "codemirror_mode": {
    "name": "ipython",
    "version": 3
   },
   "file_extension": ".py",
   "mimetype": "text/x-python",
   "name": "python",
   "nbconvert_exporter": "python",
   "pygments_lexer": "ipython3",
   "version": "3.10.16"
  }
 },
 "nbformat": 4,
 "nbformat_minor": 5
}
