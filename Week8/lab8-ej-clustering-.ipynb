{
 "cells": [
  {
   "cell_type": "markdown",
   "metadata": {},
   "source": [
    "## Lab 8:  Clustering\n",
    "Environmental justice (EJ) seeks to ensure that all communities, regardless of socioeconomic status or demographic background, have equal access to clean air, water, and, in the form of energy justice, access to renewable energy resources while minimizing exposure to environmental hazards. In this lab, we will apply clustering analysis to explore how U.S. counties group together based on renewable energy potential, demographic characteristics, and environmental risk factors.\n",
    "\n",
    "The EEIP dataset was collated by the National Renewable Energy Lab (NREL) and contains a large set of features from multiple other databases including SLOPE (renewable energy potential) and EJSCREEN (environmental risk indicators).\n",
    "\n",
    "Link to metadata: https://ucsb.box.com/s/x3olvh3rd8w5h7xz8jnm3v8g3t4ajjsg\n",
    "\n",
    "First you will step through a guided clustering exploration of renewable energy production potential.  Then you will formulate a question of your own that brings in an environmental justice component.\n"
   ]
  },
  {
   "cell_type": "markdown",
   "metadata": {},
   "source": [
    "### Step 0: Load Libraries and Data"
   ]
  },
  {
   "cell_type": "code",
   "execution_count": 5,
   "metadata": {
    "tags": []
   },
   "outputs": [],
   "source": [
    "import pandas as pd\n",
    "import numpy as np\n",
    "import matplotlib.pyplot as plt\n",
    "from sklearn.preprocessing import StandardScaler\n",
    "from scipy.cluster.hierarchy import linkage, dendrogram, fcluster\n",
    "\n",
    "# Load the EEIP dataset \n",
    "eeip_data = pd.read_csv(\"/courses/EDS232/Data/eeip.data.csv\")"
   ]
  },
  {
   "cell_type": "markdown",
   "metadata": {},
   "source": [
    "## Part I:\n",
    "In this part, we will step through an analysis that examines how US counties cluster in their potential production of renewable energy.  \n",
    "\n",
    "### Step 1: Exploratory Data Analysis\n",
    "\n",
    "First we need to check for missing data and remove incomplete rows. Since clustering is a distance-based technique, we also need to ensure that the features used for clustering are scaled appropriately to prevent dominant features from skewing results.  For our first analysis, use the following variables from the SLOPE dataset related to energy production potential as your features: \n",
    "- `utility_pv_technical_generation_potential_mwh`\n",
    "- `residential_pv_technical_generation_potential_mwh`\n",
    "- `land_based_wind_technical_generation_potential_mwh`\n",
    "- `commercial_pv_technical_generation_potential_mwh`\n",
    "\n",
    "*Information on these variables is available on line 7 of the ColumnsExplained tab of the metadata*\n",
    "\n",
    "Once you have removed incomplete rows and scaled, print the shape of your processed dataframe. "
   ]
  },
  {
   "cell_type": "code",
   "execution_count": null,
   "metadata": {},
   "outputs": [],
   "source": []
  },
  {
   "cell_type": "markdown",
   "metadata": {},
   "source": [
    "### Step 2: Hierarchical Clustering Analysis\n",
    "\n",
    "Now that we have preprocessed our dataset and standardized the energy potential features, we will use hierarchical clustering to explore how counties group together based on their energy potential.\n",
    "\n",
    "A dendrogram is a tree-like visualization that shows how clusters are merged step by step. By analyzing the dendrogram, we can decide the optimal number of clusters by looking at the distance between merges.\n",
    "\n",
    "Use `linkage()` to perform the clustering.  Use 'ward' for the `method` parameter, a method which minimizes the variance within clusters, producing well-balanced groups. We will first visualize the **full dendrogram** using `dendrogram` before deciding on a truncation strategy.\n"
   ]
  },
  {
   "cell_type": "code",
   "execution_count": null,
   "metadata": {
    "tags": []
   },
   "outputs": [],
   "source": []
  },
  {
   "cell_type": "markdown",
   "metadata": {},
   "source": [
    "### Step 3: Set Up Cluster Interpretation\n",
    "\n",
    "After determining the optimal number of clusters from the dendrogram, we now assign each county to a cluster using the extracted cluster labels.\n",
    "\n",
    "To better understand the clustering results, we will:\n",
    "- Define `num_clusters` as the ideal number of clusters based on the dendrogram created above\n",
    "- Extract cluster assignment attribute from the hierarchical clustering using `fcluster()` with `criterion = \"maxclust\"`\n",
    "- Create a new variable `Cluster` in your cleaned dataframe and assign cluster labels to it\n",
    "- Compute and print the mean values of the original energy potential features for each cluster.\n",
    "\n",
    "This summary will help us interpret how counties differ in energy potential across clusters and inform possible next steps for analysis.\n"
   ]
  },
  {
   "cell_type": "code",
   "execution_count": null,
   "metadata": {
    "tags": []
   },
   "outputs": [],
   "source": []
  },
  {
   "cell_type": "markdown",
   "metadata": {},
   "source": [
    "### Step 4: Visualizing Energy Potential Across Clusters\n",
    "Now that we have assigned cluster labels, we want to understand how energy potential differs across clusters. To do this, we will visualize these differences using a grouped bar chart.\n",
    "\n",
    "Each bar should represent the mean value of an energy potential indicator for a specific cluster. These different patterns of potential is what caused the model to segregate the clusters in the way that it did."
   ]
  },
  {
   "cell_type": "code",
   "execution_count": null,
   "metadata": {
    "tags": []
   },
   "outputs": [],
   "source": []
  },
  {
   "cell_type": "markdown",
   "metadata": {},
   "source": [
    "### Step 5: Interpret Clustering Results\n",
    "Interpret your plot of the resulting clusters.  How would you characterize and compare the four different clusters in terms of their profile of energy generation?"
   ]
  },
  {
   "cell_type": "markdown",
   "metadata": {},
   "source": [
    "***Your answer here***"
   ]
  },
  {
   "cell_type": "markdown",
   "metadata": {},
   "source": [
    "## Part II: Environmental Justice Metrics\n",
    "Now it's your turn.\n",
    "\n",
    "So far, we have clustered counties based on **energy potential**, but energy potential alone does not tell the full story of **energy equity and access**. To deepen the analysis, we need to consider environmental justice (EJ) factors that affect communities’ ability to benefit from renewable energy and the environmental burdens they already experience.\n",
    "\n",
    "1. Explore EJSCREEN variables:  \n",
    "   - The EJSCREEN subset of our dataset contains metrics on pollution burden, demographics (population size), and health risks (*lines 31-41 of the ColumnsExplained tab in the metadata sheet linked above*).\n",
    "   - Identify 1-3 variables that could be important for energy equity analysis.  You could introduce them either as clustering features, as post-clustering variables to help interpret the clusters, or both. \n",
    "\n",
    "2. Modify the clustering approach:  \n",
    "   - Add your selected EJSCREEN variables to our feature set.    \n",
    "   - Re-run the hierarchical clustering analysis with the expanded dataset (if you added any as clustering features).  \n",
    "\n",
    "3. Interpret the Results:\n",
    "   Your interpretation could include considerations such as:\n",
    "   - How do clusters change when EJSCREEN variables are included?  \n",
    "   - Are counties with high renewable energy potential also burdened by environmental risks?  \n",
    "   - What policy recommendations might emerge from these findings?  "
   ]
  },
  {
   "cell_type": "code",
   "execution_count": null,
   "metadata": {},
   "outputs": [],
   "source": [
    "#Your Part 2 Code"
   ]
  },
  {
   "cell_type": "markdown",
   "metadata": {},
   "source": [
    "Which EJSCREEN variable(s) did you add to the analysis? Why did you choose these?  What is the question you are interested in? What did you learn from the analysis"
   ]
  },
  {
   "cell_type": "markdown",
   "metadata": {},
   "source": [
    "***Your answer here***"
   ]
  }
 ],
 "metadata": {
  "kernelspec": {
   "display_name": "Python 3 (ipykernel)",
   "language": "python",
   "name": "python3"
  },
  "language_info": {
   "codemirror_mode": {
    "name": "ipython",
    "version": 3
   },
   "file_extension": ".py",
   "mimetype": "text/x-python",
   "name": "python",
   "nbconvert_exporter": "python",
   "pygments_lexer": "ipython3",
   "version": "3.7.13"
  }
 },
 "nbformat": 4,
 "nbformat_minor": 4
}
